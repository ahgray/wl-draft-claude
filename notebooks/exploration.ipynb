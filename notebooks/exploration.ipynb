{
  "cells": [
    {
      "cell_type": "markdown",
      "metadata": {},
      "source": [
        "# NFL Team Draft Optimizer - Data Exploration\n",
        "This notebook helps you explore the data and test the simulation engine"
      ]
    },
    {
      "cell_type": "code",
      "execution_count": null,
      "metadata": {},
      "source": [
        "import pandas as pd\n",
        "import numpy as np\n",
        "import nfl_data_py as nfl\n",
        "from datetime import datetime\n",
        "import plotly.express as px\n",
        "import plotly.graph_objects as go\n",
        "\n",
        "print('Libraries loaded successfully!')"
      ]
    },
    {
      "cell_type": "markdown",
      "metadata": {},
      "source": [
        "## Fetch 2024 Season Data for Calibration"
      ]
    },
    {
      "cell_type": "code",
      "execution_count": null,
      "metadata": {},
      "source": [
        "# Fetch 2024 season results for calibration\n",
        "games_2024 = nfl.import_schedules([2024])\n",
        "print(f'Loaded {len(games_2024)} games from 2024 season')\n",
        "games_2024.head()"
      ]
    },
    {
      "cell_type": "markdown",
      "metadata": {},
      "source": [
        "## Calculate Team Standings"
      ]
    },
    {
      "cell_type": "code",
      "execution_count": null,
      "metadata": {},
      "source": [
        "# Calculate wins/losses by team\n",
        "completed_games = games_2024[games_2024['home_score'].notna()].copy()\n",
        "\n",
        "# Calculate home wins\n",
        "completed_games['home_won'] = completed_games['home_score'] > completed_games['away_score']\n",
        "\n",
        "# Aggregate wins by team\n",
        "home_wins = completed_games.groupby('home_team')['home_won'].sum()\n",
        "away_wins = completed_games.groupby('away_team').apply(lambda x: (~x['home_won']).sum())\n",
        "\n",
        "total_wins = (home_wins.add(away_wins, fill_value=0)).sort_values(ascending=False)\n",
        "print('2024 Season Final Standings (Wins):')\n",
        "print(total_wins.head(10))"
      ]
    }
  ],
  "metadata": {
    "kernelspec": {
      "display_name": "Python 3",
      "language": "python",
      "name": "python3"
    },
    "language_info": {
      "name": "python",
      "version": "3.9.0"
    }
  },
  "nbformat": 4,
  "nbformat_minor": 4
}